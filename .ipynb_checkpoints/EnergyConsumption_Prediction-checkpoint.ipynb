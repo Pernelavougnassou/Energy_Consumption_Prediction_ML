{
 "cells": [
  {
   "cell_type": "markdown",
   "id": "47251e7c-3a4b-4ab6-a262-5fe58f44814b",
   "metadata": {
    "tags": []
   },
   "source": [
    "### **Energy-Consumption-Prediction**\n",
    "Using Regession Analysis\n",
    "\n",
    "### Project Description\n",
    "The aim is to build a predictive model on consumption of energy.\n",
    "\n",
    "### Features: \n",
    "\n",
    "**OSEBuildingID**: Unique Building ID\n",
    "\n",
    "**BuildingType**: Type of Building\n",
    "\n",
    "**PrimaryPropertyType**: Type of the Primary Property\n",
    "\n",
    "**PropertyName**: Name of the Building\n",
    "\n",
    "**Latitude**: Site Latitude\n",
    "\n",
    "**Longitude**: Site Longitude\n",
    "\n",
    "**YearBuilt**: The year of Built\n",
    "\n",
    "**NumberofBuildings**: The Number of buildings\n",
    "\n",
    "**NumberofFloors**: The Number of Floors\n",
    "\n",
    "**PropertyofGFATotal**: Property GFA Total\n",
    "\n",
    "**PropertyofGFAParking**: Property GFA of Parking\n",
    "\n",
    "**PropertyofGFABuilding(s)**: Property GFA of Buildings\n",
    "\n",
    "**LargestPropertyUseType**: Type of use of the largest property\n",
    "\n",
    "**ENERGYSTARScore**: Score of the energy\n",
    "\n",
    "**SiteEnergyUse(kBtu)**: Amount of Energy recorded on Site\n",
    "\n",
    "**SiteEnergyUseWN(kBtu)**: Amount of Energy recorded on Site. This is the outcome variable to be predicted.\n",
    "\n",
    "**Electricity(kWh)**: Amount of Electricity Used\n",
    "\n",
    "### Data Exploration: \n",
    "   Looking at categorical and continuous feature summaries and making inferences about the data.\n",
    "### Data Cleaning:\n",
    "   Imputing missing values in the data and checking for outliers\n",
    "### Feature Engineering:\n",
    "   Odifying existing variables and creating new ones for analysis\n",
    "### Model Building:\n",
    "   Making predictive models on the data\n",
    "### Metrics:\n",
    "   Check the effectiveness of our predictive models"
   ]
  },
  {
   "cell_type": "markdown",
   "id": "388873c8-01ea-4a38-8bbc-0c8ee11c8ee4",
   "metadata": {},
   "source": [
    "**Importing the librairies**\n",
    "\n",
    "We are going to import the essentials librairies that we'll use to visualize the dataset"
   ]
  },
  {
   "cell_type": "code",
   "execution_count": null,
   "id": "cac0e7ff-c8ce-4322-ad4b-596a7ef20d90",
   "metadata": {},
   "outputs": [],
   "source": [
    "import numpy as np\n",
    "import pandas as pd\n",
    "import matplotlib.pyplot as plt\n",
    "import seaborn as sns\n",
    "import time"
   ]
  },
  {
   "cell_type": "markdown",
   "id": "3759adff-12ff-4f4e-8dc5-2a46c9bb55b3",
   "metadata": {},
   "source": [
    "**Importing the dataset**\n",
    "\n",
    "By using Pandas, We'll import the dataset"
   ]
  },
  {
   "cell_type": "code",
   "execution_count": null,
   "id": "ff6146cd-5ea7-4b54-aa11-a8e6b361c7ae",
   "metadata": {},
   "outputs": [],
   "source": [
    "# reading the dataset\n",
    "energy = pd.read_csv(\"batiment.csv\", sep=\";\")\n",
    "\n",
    "# making copies of our dataset\n",
    "energy = energy.copy()\n",
    "\n",
    "# displaying the first five lines of our dataset\n",
    "energy.head()"
   ]
  },
  {
   "cell_type": "markdown",
   "id": "04fe22dc-dd8a-4101-b284-96d5c3ae59f9",
   "metadata": {},
   "source": [
    "Now That the Dataset is successufully Imported, Let's describe our Dataset."
   ]
  },
  {
   "cell_type": "code",
   "execution_count": null,
   "id": "66be7be9-697f-4b3d-882b-c0a8a9736d80",
   "metadata": {},
   "outputs": [],
   "source": [
    "# checking the columns of the dataset\n",
    "print(energy.columns)"
   ]
  },
  {
   "cell_type": "code",
   "execution_count": null,
   "id": "3a43f49f-c7ed-42ea-a1b6-f8611113e8e8",
   "metadata": {},
   "outputs": [],
   "source": [
    "# Checking the shape of the dataset\n",
    "print(energy.shape)"
   ]
  },
  {
   "cell_type": "markdown",
   "id": "e11a7a89-5277-4fd0-b362-da78b90db23b",
   "metadata": {},
   "source": [
    "The Dataset contains 3376 rows & 17 columns as we seen above. Here We are going to check the first Statistical data of the dataset."
   ]
  },
  {
   "cell_type": "code",
   "execution_count": null,
   "id": "d66b5250-68d6-48ee-ab2f-b452c986ed2e",
   "metadata": {},
   "outputs": [],
   "source": [
    "# describing briefly the dataset\n",
    "energy.describe()"
   ]
  },
  {
   "cell_type": "markdown",
   "id": "ca71f3e4-aded-40d6-bb45-da7678cf4936",
   "metadata": {},
   "source": [
    "**DATA VISUALIZATION**\n",
    "\n",
    "Visualization is an important part of the process for undestanding our dataset. So We are going to visualize some features.\n",
    "\n",
    "**- Univariate Data Analysis**\n",
    "\n",
    "Visualizing the distribution of SiteEnergyUse (the outcome)"
   ]
  },
  {
   "cell_type": "code",
   "execution_count": null,
   "id": "cd707e6b-bce9-41f1-a489-abb51b925293",
   "metadata": {},
   "outputs": [],
   "source": [
    "#Setting figure size for the notebook\n",
    "plt.figure(figsize=(15,5))\n",
    "\n",
    "#Plotting SiteEnergyUse(kBtu)\n",
    "sns.displot(energy['SiteEnergyUse(kBtu)'], bins=10, kde=True, rug=True, color='green', height=6, aspect=1)\n",
    "\n",
    "#set title of the plot\n",
    "plt.title('Distribution of SiteEnergyUse', \n",
    "          fontdict = {'verticalalignment': 'baseline', 'color': 'green'},\n",
    "          loc='center', pad=10.0)"
   ]
  },
  {
   "cell_type": "markdown",
   "id": "a08a4ef1-95b8-48ea-840c-eec96c395d19",
   "metadata": {},
   "source": [
    "**Conclusion:** We notice that SiteEnergyUse(kBtu) is highly asymmetric."
   ]
  },
  {
   "cell_type": "markdown",
   "id": "386ee0fc-574b-4b38-be26-9f098edc2d81",
   "metadata": {},
   "source": [
    "Visualizing SiteEnergyUse with boxplot"
   ]
  },
  {
   "cell_type": "code",
   "execution_count": null,
   "id": "05c240d4-5973-4847-8cdd-ce9f3d1fb053",
   "metadata": {},
   "outputs": [],
   "source": [
    "#Setting figure size for the notebook\n",
    "plt.figure(figsize=(15,5))\n",
    "\n",
    "#set title of the plot\n",
    "plt.title('Visualization of SiteEnergyUse With Boxplot', color='green',\n",
    "          loc='right', pad=10.0)\n",
    "\n",
    "# Plotting SiteEnergyUse(kBtu)\n",
    "sns.boxplot(x =energy['SiteEnergyUse(kBtu)'])\n",
    "sns.stripplot(x = energy['SiteEnergyUse(kBtu)'], color = 'darkgreen')"
   ]
  },
  {
   "cell_type": "markdown",
   "id": "644c372a-2dcc-4d24-888b-2844c97f38fe",
   "metadata": {},
   "source": [
    "Visualizing Electricity with boxplot"
   ]
  },
  {
   "cell_type": "code",
   "execution_count": null,
   "id": "573607a5-6932-4258-a7bb-b83b40179d79",
   "metadata": {},
   "outputs": [],
   "source": [
    "#Setting figure size for the notebook\n",
    "plt.figure(figsize=(15,5))\n",
    "\n",
    "# set title of the plot\n",
    "plt.title('Visualization of Electricity With Boxplot', color='blue',\n",
    "          loc='right', pad=10.0)\n",
    "\n",
    "# Plotting Electricity(kWh)\n",
    "sns.boxplot(x =energy['Electricity(kWh)'])\n",
    "sns.stripplot(x = energy['Electricity(kWh)'], color = 'darkblue')"
   ]
  },
  {
   "cell_type": "markdown",
   "id": "b1aad5c8-e4dd-4809-a4d3-672877f32d1d",
   "metadata": {},
   "source": [
    "Visualizing ENERGYSTARScore with boxplot"
   ]
  },
  {
   "cell_type": "code",
   "execution_count": null,
   "id": "0a0b34a0-4d28-4269-b7d5-ac6d8e71365a",
   "metadata": {},
   "outputs": [],
   "source": [
    "#Setting figure size for the notebook\n",
    "plt.figure(figsize=(15,5))\n",
    "\n",
    "#set title of the plot\n",
    "plt.title('Visualization of ENERGYSTARScore With Boxplot', color='blue',\n",
    "          loc='right', pad=10.0)\n",
    "\n",
    "# Plotting ENERGYSTARScore\n",
    "sns.boxplot(x =energy['ENERGYSTARScore'], color='gray')"
   ]
  },
  {
   "cell_type": "markdown",
   "id": "63a2208c-4609-450e-b16b-84a7f6201b1b",
   "metadata": {},
   "source": [
    "Visualizing the type of Building"
   ]
  },
  {
   "cell_type": "code",
   "execution_count": null,
   "id": "42f9b6ba-2706-4979-af6c-7d5a5428a675",
   "metadata": {},
   "outputs": [],
   "source": [
    "#Setting figure size for the notebook\n",
    "plt.figure(figsize=(15,5))\n",
    "\n",
    "#Plotting BuildingType\n",
    "ax = sns.countplot(x=energy['BuildingType'])\n",
    "\n",
    "# set title of the plot\n",
    "ax.set_title(\"Visualization of the Type of Buildings\", color='Brown', fontsize = 15)"
   ]
  },
  {
   "cell_type": "markdown",
   "id": "d86e99ec-4db3-4e52-bbc7-f8974ccd7442",
   "metadata": {},
   "source": [
    "Visualizing the primary type of Building"
   ]
  },
  {
   "cell_type": "code",
   "execution_count": null,
   "id": "c593cd10-66b2-4056-9adf-c196f8d4d8fe",
   "metadata": {},
   "outputs": [],
   "source": [
    "#Setting figure size for the notebook\n",
    "plt.figure(figsize=(45,20))\n",
    "\n",
    "#Plotting PrimaryPropertyType\n",
    "ax = sns.countplot(x=energy['PrimaryPropertyType'])\n",
    "\n",
    "#Set title of the plot\n",
    "ax.set_title(\"Visualization of the Primary Property Type\", color='brown', fontsize = 30)"
   ]
  },
  {
   "cell_type": "markdown",
   "id": "d5200999-2a2d-42f8-99af-7dcc07687e1a",
   "metadata": {},
   "source": [
    "**- Bivariate Data Analysis**"
   ]
  },
  {
   "cell_type": "markdown",
   "id": "3f93798c-7f2b-4020-85be-900c15d251cb",
   "metadata": {},
   "source": [
    "Visualizing SiteEnergy Use of Buildings"
   ]
  },
  {
   "cell_type": "code",
   "execution_count": null,
   "id": "0b2483d5-6758-4e74-8916-bb96a9b1acfa",
   "metadata": {},
   "outputs": [],
   "source": [
    "#Setting figure size for the notebook\n",
    "plt.figure(figsize=(15,5))\n",
    "\n",
    "#Set title of the plot\n",
    "plt.title('Visualization the behavior of Energy Use with Building', color = 'purple',\n",
    "          loc='right', pad=10.0)\n",
    "\n",
    "# Ploting BuildingType with SiteEnergyUse\n",
    "sns.boxplot(x=energy['BuildingType'], y=energy['SiteEnergyUse(kBtu)'], color='orange', width=0.4)"
   ]
  },
  {
   "cell_type": "markdown",
   "id": "4f77f4f7-0759-4926-bea3-3f5da4d6889d",
   "metadata": {},
   "source": [
    "Visualizing the Distribution of Year based on PrimaryPropertyType"
   ]
  },
  {
   "cell_type": "code",
   "execution_count": null,
   "id": "6bf643c5-0bcc-40ae-b5c3-03d14acd92ad",
   "metadata": {},
   "outputs": [],
   "source": [
    "#Importing the librarie Joypy \n",
    "from joypy import joyplot\n",
    "from matplotlib import cm\n",
    "\n",
    "#Plotting the PrimaryPropertyType & YearBuilt\n",
    "joyplot(energy, by = 'PrimaryPropertyType', column = 'YearBuilt', kind=\"kde\", colormap = cm.autumn_r, fade = True, \n",
    "        range_style='own', figsize = (15,15), \n",
    "        title = 'Distribution of Year based on PrimaryPropertyType')\n",
    "\n",
    "# display\n",
    "plt.show()"
   ]
  },
  {
   "cell_type": "markdown",
   "id": "c3bab449-7ad2-48ab-9dfa-c8063244cf0b",
   "metadata": {},
   "source": [
    "Checking the number of Buildings by Type"
   ]
  },
  {
   "cell_type": "code",
   "execution_count": null,
   "id": "24911c52-482b-460f-8546-3aafa9119279",
   "metadata": {},
   "outputs": [],
   "source": [
    "#Setting figure size for the notebook\n",
    "plt.figure(figsize=(15,5))\n",
    "\n",
    "#Set title of the plot\n",
    "plt.title('Visualization the behavior of Number of Buildings by Type', color = 'purple',\n",
    "          loc='right', pad=10.0)\n",
    "\n",
    "# PLotting BuildingType with NumberofBuildings\n",
    "sns.boxplot(x=energy['BuildingType'], y=energy['NumberofBuildings'], color='orange', width=0.2)"
   ]
  },
  {
   "cell_type": "markdown",
   "id": "fb4d5a11-dd80-4f6e-b9ed-b71e7b5b7019",
   "metadata": {},
   "source": [
    "Visualizing the behavior of the PropertyGFATotal with ENERGYSTARScore by BuildingType"
   ]
  },
  {
   "cell_type": "code",
   "execution_count": null,
   "id": "ed8440ec-e85d-46ba-a12d-fd140f8e5023",
   "metadata": {},
   "outputs": [],
   "source": [
    "#Set title of the plot\n",
    "plt.figure(figsize=(15,5))\n",
    "\n",
    "#Set title of the plot\n",
    "plt.title('Visualization the behavior of PropertyGFATotal with ENERGYSTARScore by Building', color ='green',\n",
    "          loc='right', pad=10.0)\n",
    "\n",
    "# PLotting PropertyGFATotal with ENERGYSTARScore by BuildingType\n",
    "sns.scatterplot(x=energy['PropertyGFATotal'], y=energy['ENERGYSTARScore'], hue=energy['BuildingType'])"
   ]
  },
  {
   "cell_type": "markdown",
   "id": "c3bb2828-be6e-41fb-94f1-2a136d7f9c94",
   "metadata": {},
   "source": [
    "Visualizing the behavior of the BuildingType with ENERGYSTARScore by Building Type"
   ]
  },
  {
   "cell_type": "code",
   "execution_count": null,
   "id": "01111313-9731-4f9b-96dc-b7c78aa179ec",
   "metadata": {},
   "outputs": [],
   "source": [
    "#Setting figure size for the notebook\n",
    "plt.figure(figsize=(15,5))\n",
    "\n",
    "#Set title of the plot\n",
    "plt.title('Visualization the behavior of BuildingType with ENERGYSTARScore by Building', color = 'purple',\n",
    "          loc='right', pad=10.0)\n",
    "\n",
    "#PLotting BuildingType with ENERGYSTARScore by BuildingType\n",
    "sns.scatterplot(x=energy['BuildingType'], y=energy['ENERGYSTARScore'], hue=energy['BuildingType'])"
   ]
  },
  {
   "cell_type": "markdown",
   "id": "3148735d-d029-4e65-b614-19d5e8aaa350",
   "metadata": {},
   "source": [
    "Visualizing the behavior of the YearBuilt with SiteEnergyUse(kBtu) by BuildingType"
   ]
  },
  {
   "cell_type": "code",
   "execution_count": null,
   "id": "0220554d-4695-4616-8d1a-29614fc9b68d",
   "metadata": {},
   "outputs": [],
   "source": [
    "#Setting figure size for the notebook\n",
    "plt.figure(figsize=(15,5))\n",
    "\n",
    "#Set title of the plot\n",
    "plt.title('Visualization the behavior of YearBuilt with SiteEnergyUse(kBtu) by BuildingType', color ='blue',\n",
    "          loc='right', pad=10.0)\n",
    "\n",
    "#PLotting YearBuilt with SiteEnergyUse(kBtu) by BuildingType\n",
    "sns.scatterplot(x=energy['YearBuilt'], y=energy['SiteEnergyUse(kBtu)'], hue=energy['BuildingType'])"
   ]
  },
  {
   "cell_type": "markdown",
   "id": "5a174293-3ac1-4907-b2c0-d6b47bb81d1e",
   "metadata": {},
   "source": [
    "Visualizing the behavior of the YearBuilt with Electricity(kWh) by BuildingType"
   ]
  },
  {
   "cell_type": "code",
   "execution_count": null,
   "id": "7784406d-ddc0-4f09-9e07-c8746bac9d12",
   "metadata": {},
   "outputs": [],
   "source": [
    "#Setting figure size for the notebook\n",
    "plt.figure(figsize=(15,5))\n",
    "\n",
    "#Set title of the plot\n",
    "plt.title('Visualisation the behavior of YearBuilt with Electricity(kWh) by Building', color = 'blue',\n",
    "          loc='right', pad=10.0)\n",
    "\n",
    "#PLotting YearBuilt with Electricity(kWh) by BuildingType\n",
    "sns.scatterplot(x=energy['YearBuilt'], y=energy['Electricity(kWh)'], hue=energy['BuildingType'])"
   ]
  },
  {
   "cell_type": "markdown",
   "id": "f8be4b43-18f4-40a2-a8a9-22c34a001e13",
   "metadata": {},
   "source": [
    "Visualizing the behavior of the Electricity(kWh) with SiteEnergyUse(kBtu)"
   ]
  },
  {
   "cell_type": "code",
   "execution_count": null,
   "id": "f66a2e3d-2196-4cdb-804e-68aecc0ef2ea",
   "metadata": {},
   "outputs": [],
   "source": [
    "#Setting figure size for the notebook\n",
    "plt.figure(figsize=(15,5))\n",
    "\n",
    "#Set title of the plot\n",
    "plt.title('Visualization the behavior of the Electricity(kWh) with SiteEnergyUse(kBtu)', color ='darkblue',\n",
    "          loc='right', pad=10.0)\n",
    "\n",
    "#PLotting Electricity(kWh) with SiteEnergyUse(kBtu)\n",
    "sns.scatterplot(x=energy['Electricity(kWh)'], y=energy['SiteEnergyUse(kBtu)'], color='darkblue')"
   ]
  },
  {
   "cell_type": "markdown",
   "id": "6048a035-3da4-4ee7-b197-dcd08f27c87a",
   "metadata": {},
   "source": [
    "Visualizing the distribution of the ENERGYSTARScore by BuildingType"
   ]
  },
  {
   "cell_type": "code",
   "execution_count": null,
   "id": "8c820dc5-fa42-44b1-b07c-88db8f8cbff8",
   "metadata": {},
   "outputs": [],
   "source": [
    "# Set figure size for the notebook\n",
    "plt.figure(figsize=(15,5))\n",
    "\n",
    "# Without transparency\n",
    "sns.kdeplot(data=energy, x=energy['ENERGYSTARScore'], hue=energy['BuildingType'], fill=True, common_norm=False, alpha=1, warn_singular=False)\n",
    "\n",
    "#show\n",
    "plt.show()"
   ]
  },
  {
   "cell_type": "markdown",
   "id": "0b01d091-737e-4aea-8a67-508b1f5c9a4a",
   "metadata": {},
   "source": [
    "Visualizing the behavior of PropertyGFATotal by BuildingType"
   ]
  },
  {
   "cell_type": "code",
   "execution_count": null,
   "id": "0ae3a408-ab65-4473-b249-8d7a7bc0058c",
   "metadata": {},
   "outputs": [],
   "source": [
    "#Setting figure size for the notebook\n",
    "plt.figure(figsize=(15,5))\n",
    "\n",
    "#Set title of the plot\n",
    "plt.title('Visualizing the behavior of PropertyGFATotal by BuildingType', color= 'purple',\n",
    "          loc='right', pad=10.0)\n",
    "\n",
    "#PLotting BuildingType with PropertyGFATotal\n",
    "sns.stripplot(x=\"BuildingType\", y=\"PropertyGFATotal\", data=energy)"
   ]
  },
  {
   "cell_type": "markdown",
   "id": "6964808f-fd45-4c00-b219-3c3b4bbbcfb8",
   "metadata": {},
   "source": [
    "Visualizing the behavior of the Electricity(kWh) with SiteEnergyUseWN(kBtu) by ENERGYSTARScore"
   ]
  },
  {
   "cell_type": "code",
   "execution_count": null,
   "id": "306d04e7-2e0a-4514-88a8-959fdb249d23",
   "metadata": {},
   "outputs": [],
   "source": [
    "#Setting figure size for the notebook\n",
    "plt.figure(figsize=(15,5))\n",
    "\n",
    "#Set title of the plot\n",
    "plt.title('Visualization the behavior of the Electricity(kWh) with SiteEnergyUseWN(kBtu) by ENERGYSTARScore', color = 'red',\n",
    "          loc='right', pad=10.0)\n",
    "\n",
    "#PLotting Electricity(kWh) with SiteEnergyUseWN(kBtu) by ENERGYSTARScore\n",
    "sns.scatterplot(x=energy['Electricity(kWh)'], y=energy['SiteEnergyUseWN(kBtu)'], hue=energy['ENERGYSTARScore'], color='red')"
   ]
  },
  {
   "cell_type": "markdown",
   "id": "8b83cb03-e806-45a8-a899-a256d4bf6fb7",
   "metadata": {},
   "source": [
    "Visualizing the behavior of NumberofBuildings with SiteEnergyUse(kBtu) by YearBuilt"
   ]
  },
  {
   "cell_type": "code",
   "execution_count": null,
   "id": "93cb71e0-16ee-4467-832e-c3dde1bedeb3",
   "metadata": {},
   "outputs": [],
   "source": [
    "# Set figure size for the notebook\n",
    "plt.figure(figsize=(15,5))\n",
    "\n",
    "#Set title of the plot\n",
    "plt.title('Visualization the behavior of NumberofBuildings with SiteEnergyUse(kBtu) by YearBuilt', color = 'purple',\n",
    "          loc='right', pad=10.0)\n",
    "\n",
    "#Plotting NumberofBuildings and SiteEnergyUse(kBtu) by YearBuilt\n",
    "sns.scatterplot(x=energy['SiteEnergyUse(kBtu)'], y=energy['NumberofBuildings'], \n",
    "                hue=energy['YearBuilt'])"
   ]
  },
  {
   "cell_type": "markdown",
   "id": "57a8282e-4978-4ec0-af70-b85445fb550d",
   "metadata": {},
   "source": [
    "Visualizing the behavior of SiteEnergyUseWN(kBtu) with SiteEnergyUse(kBtu) by BuildingType"
   ]
  },
  {
   "cell_type": "code",
   "execution_count": null,
   "id": "9c62dfb3-6a7a-4a8c-a419-2a4179302ec9",
   "metadata": {},
   "outputs": [],
   "source": [
    "# Set figure size for the notebook\n",
    "plt.figure(figsize=(15,5))\n",
    "\n",
    "#Set title of the plot\n",
    "plt.title('Visualization the behavior of SiteEnergyUseWN(kBtu) with SiteEnergyUse(kBtu) by BuildingType', color ='red',\n",
    "          loc='right', pad=10.0)\n",
    "\n",
    "#Plotting SiteEnergyUseWN(kBtu) with SiteEnergyUse(kBtu) by BuildingType\n",
    "sns.scatterplot(x=energy['SiteEnergyUseWN(kBtu)'], y=energy['SiteEnergyUse(kBtu)'], hue=energy['BuildingType'], color='red', data=energy)"
   ]
  },
  {
   "cell_type": "markdown",
   "id": "1f040bff-ee8c-410f-ba8e-3b2d4b71caa8",
   "metadata": {},
   "source": [
    "**- Multivariate Analysis**\n",
    "\n",
    "Large Exploration of our Dataset with PairPlot"
   ]
  },
  {
   "cell_type": "code",
   "execution_count": null,
   "id": "5381151d-c9bf-4695-ad3f-d62a0aef03d4",
   "metadata": {},
   "outputs": [],
   "source": [
    "#Plotting the Dataset\n",
    "sns.pairplot(energy, hue ='BuildingType')\n",
    "\n",
    "#Show\n",
    "plt.show()"
   ]
  },
  {
   "cell_type": "markdown",
   "id": "1a5860e3-c628-4a93-8c7f-afe755a314f0",
   "metadata": {},
   "source": [
    "**DATA PREPROCESSING**\n",
    "\n",
    "**- Realizing an ACP & Printing correlation matrix**"
   ]
  },
  {
   "cell_type": "code",
   "execution_count": null,
   "id": "b0bf4d6d-9237-4487-8766-7a0e20057636",
   "metadata": {},
   "outputs": [],
   "source": [
    "# making another copies of our Dataset\n",
    "dataset = energy.copy()"
   ]
  },
  {
   "cell_type": "markdown",
   "id": "a19a0d2f-c735-4ab9-8217-e57e1ce02c22",
   "metadata": {},
   "source": [
    "Correlation Matrix"
   ]
  },
  {
   "cell_type": "code",
   "execution_count": null,
   "id": "4687b0a1-292e-4d9f-936b-5bfd15fa577f",
   "metadata": {},
   "outputs": [],
   "source": [
    "# Correlation \n",
    "correlate = dataset.corr()\n",
    "round(correlate,2)"
   ]
  },
  {
   "cell_type": "code",
   "execution_count": null,
   "id": "628d3459-e722-4265-a31d-3fa91e38dbc2",
   "metadata": {},
   "outputs": [],
   "source": [
    "# CORRELATION MATRIX \n",
    "\n",
    "from string import ascii_letters\n",
    "\n",
    "sns.set_theme(style=\"white\")\n",
    "\n",
    "# Generate a large random dataset\n",
    "rs = np.random.RandomState(33)\n",
    "d = pd.DataFrame(data=rs.normal(size=(100, 26)),\n",
    "                 columns=list(ascii_letters[26:]))\n",
    "\n",
    "# Generate a mask for the upper triangle\n",
    "mask = np.triu(np.ones_like(correlate, dtype=bool))\n",
    "\n",
    "# Set up the matplotlib figure\n",
    "f, ax = plt.subplots(figsize=(11, 9))\n",
    "\n",
    "# Generate a custom diverging colormap\n",
    "cmap = sns.diverging_palette(230, 20, as_cmap=True)\n",
    "\n",
    "# Draw the heatmap with the mask and correct aspect ratio\n",
    "sns.heatmap(correlate, mask=mask, cmap=cmap, vmax=1, center=0,\n",
    "            square=True, linewidths=.5, cbar_kws={\"shrink\": .5})"
   ]
  },
  {
   "cell_type": "markdown",
   "id": "70c9858a-9f19-4353-ad7d-b40d090d6626",
   "metadata": {},
   "source": [
    "From the results of the correlation matrix, we can deduce that SiteEnergyUseWN and SiteEnergyUse are Highly correlated. So we have to drop one. Same goes to Electricity and SiteEnergyUseWN."
   ]
  },
  {
   "cell_type": "markdown",
   "id": "6abd522d-4101-4a7d-ac10-4f513658d3de",
   "metadata": {},
   "source": [
    "**- Identifing the most important variables**"
   ]
  },
  {
   "cell_type": "code",
   "execution_count": null,
   "id": "ab921689-e58b-418e-a3b2-f0f786b74658",
   "metadata": {},
   "outputs": [],
   "source": [
    "# Removing useless features\n",
    "newdata = dataset.drop(columns=['Electricity(kWh)', 'Longitude', 'Latitude', 'SiteEnergyUseWN(kBtu)'])\n",
    "\n",
    "#Printing the shape\n",
    "print(newdata.shape)"
   ]
  },
  {
   "cell_type": "markdown",
   "id": "7cfd9bd7-c78c-4755-b6a3-65c0e1d5a881",
   "metadata": {},
   "source": [
    "**- Checking columns with null values and outliers**"
   ]
  },
  {
   "cell_type": "code",
   "execution_count": null,
   "id": "12c4a93d-ca3d-4cf4-b044-e559cb1e49c3",
   "metadata": {},
   "outputs": [],
   "source": [
    "# Getting unique values\n",
    "newdata.apply(lambda x: len(x.unique()))"
   ]
  },
  {
   "cell_type": "code",
   "execution_count": null,
   "id": "fd9c362d-0c3f-4275-8472-98a997b2c1b0",
   "metadata": {},
   "outputs": [],
   "source": [
    "# Checking columns with null values\n",
    "newdata.columns[newdata.isnull().any()]"
   ]
  },
  {
   "cell_type": "code",
   "execution_count": null,
   "id": "a885de98-8f6a-481e-ad96-984642a48ab1",
   "metadata": {},
   "outputs": [],
   "source": [
    "# Checking null values\n",
    "newdata.isnull().sum()"
   ]
  },
  {
   "cell_type": "code",
   "execution_count": null,
   "id": "befc70aa-ed8b-4af5-be44-fbbdb17d5a01",
   "metadata": {},
   "outputs": [],
   "source": [
    "# imputing missing values and outliers\n",
    "\n",
    "newdata['NumberofBuildings'] = newdata['NumberofBuildings'].replace(0, np.NaN)\n",
    "newdata['NumberofBuildings'].fillna(newdata['NumberofBuildings'].median(), inplace = True)\n",
    "\n",
    "newdata['SiteEnergyUse(kBtu)'] = newdata['SiteEnergyUse(kBtu)'].replace(0, np.NaN)\n",
    "newdata['SiteEnergyUse(kBtu)'].fillna(newdata['SiteEnergyUse(kBtu)'].median(), inplace = True)\n",
    "\n",
    "newdata['LargestPropertyUseType'] = newdata['LargestPropertyUseType'].replace(0, np.NaN)\n",
    "newdata['LargestPropertyUseType'].fillna('Unknown', inplace=True)\n",
    "\n",
    "newdata['ENERGYSTARScore'] = newdata['ENERGYSTARScore'].replace(0, np.NaN)\n",
    "newdata['ENERGYSTARScore'].fillna(newdata['ENERGYSTARScore'].median(), inplace = True)\n",
    "\n",
    "newdata.isnull().sum()"
   ]
  },
  {
   "cell_type": "markdown",
   "id": "5ebe66f7-4d52-476e-b38b-b473c31bc2cb",
   "metadata": {},
   "source": [
    "**- Mangemenent of Outliers**\n",
    "\n",
    "After the visualisation, we notice that there are some outliers in our dataset. So we'll check for outliers and erase all of them because Regression is very sensitive to outliers.\n",
    "\n",
    "First of All, We are going to convert SiteEnergyUse in log for high efficence Modelling"
   ]
  },
  {
   "cell_type": "code",
   "execution_count": null,
   "id": "e8ca476c-e9c0-4b4c-a7b7-4d5c2286c2ba",
   "metadata": {},
   "outputs": [],
   "source": [
    "# Converting SiteEnergyUse(kBtu) in log\n",
    "\n",
    "newdata['SiteEnergyUse(kBtu)'] = np.log(newdata['SiteEnergyUse(kBtu)'])"
   ]
  },
  {
   "cell_type": "code",
   "execution_count": null,
   "id": "1c26627e-b86e-4b14-ae24-7c58e148a354",
   "metadata": {},
   "outputs": [],
   "source": [
    "# Observe mean and std ... \n",
    "newdata['SiteEnergyUse(kBtu)'].describe()"
   ]
  },
  {
   "cell_type": "markdown",
   "id": "33255fd6-dfc1-428e-9105-132a3bc7e0f9",
   "metadata": {},
   "source": [
    "Calculating the z score to get the outliers"
   ]
  },
  {
   "cell_type": "code",
   "execution_count": null,
   "id": "212ac00b-c452-4074-aa2d-423cd08431e9",
   "metadata": {},
   "outputs": [],
   "source": [
    "# if we find z score exceeding 3, we'll consider as an outlier \n",
    "threshold = 3\n",
    "mean = newdata['SiteEnergyUse(kBtu)'].mean()\n",
    "std = newdata['SiteEnergyUse(kBtu)'].std()\n",
    "\n",
    "#storing the outliers in an array\n",
    "outliers = []\n",
    "for i in newdata['SiteEnergyUse(kBtu)']:\n",
    "    z = (i-mean)/std\n",
    "    if z > threshold:\n",
    "        outliers.append(i)\n",
    "\n",
    "# displaying all the rows that contains an outlier\n",
    "outliers_index = newdata[newdata['SiteEnergyUse(kBtu)'].isin(outliers)].index\n",
    "outliers_index"
   ]
  },
  {
   "cell_type": "markdown",
   "id": "38bf8fc4-ca0c-402e-a603-8a48455cd8bf",
   "metadata": {},
   "source": [
    "Dropping Outliers of the Dataset"
   ]
  },
  {
   "cell_type": "code",
   "execution_count": null,
   "id": "53e12482-fec8-4c45-85b3-dc0339e85888",
   "metadata": {},
   "outputs": [],
   "source": [
    "# making copies before removing outliers\n",
    "newdata = newdata.copy()\n",
    "\n",
    "#removing outliers in the dataset\n",
    "newdata.drop(outliers_index,  inplace = True)\n",
    "\n",
    "#Printing the Shape of Dataset\n",
    "newdata.shape"
   ]
  },
  {
   "cell_type": "markdown",
   "id": "b1e03dbe-3415-456f-a5f5-f4f0ac353a25",
   "metadata": {},
   "source": [
    "Renaming SiteEnergyUse(kBtu) for Splitting"
   ]
  },
  {
   "cell_type": "code",
   "execution_count": null,
   "id": "ba4a56a2-faf6-4364-b1a7-3fae25abd5aa",
   "metadata": {},
   "outputs": [],
   "source": [
    "#Rename SiteEnergyUse(kBtu) in SiteEnergyUse for Splitting\n",
    "newdata = newdata.rename(columns={\"SiteEnergyUse(kBtu)\": \"SiteEnergyUse\"})"
   ]
  },
  {
   "cell_type": "markdown",
   "id": "92de7b41-7dca-499d-bc14-bcca749daf2b",
   "metadata": {},
   "source": [
    "**MODEL BUILDING**\n",
    "\n",
    "The First step before modelling is turning the categorical values into numerical values using encoding."
   ]
  },
  {
   "cell_type": "code",
   "execution_count": null,
   "id": "76c60668-38bd-4425-bd1d-e9a548e554ae",
   "metadata": {},
   "outputs": [],
   "source": [
    "# label encoding\n",
    "from sklearn.preprocessing import LabelEncoder\n",
    "\n",
    "newdata = newdata.apply(LabelEncoder().fit_transform)"
   ]
  },
  {
   "cell_type": "markdown",
   "id": "f621c475-7d97-4808-9481-fde4c62da12a",
   "metadata": {},
   "source": [
    "Splitting the data into dependent and independent variables"
   ]
  },
  {
   "cell_type": "code",
   "execution_count": null,
   "id": "b9dba2ec-4aaa-4560-b11f-76100ade3edc",
   "metadata": {},
   "outputs": [],
   "source": [
    "# splitting the data into dependent and independent variables\n",
    "\n",
    "x = newdata.drop('SiteEnergyUse', axis = 1)\n",
    "y = newdata.SiteEnergyUse\n",
    "\n",
    "print(x.shape)\n",
    "print(y.shape)"
   ]
  },
  {
   "cell_type": "code",
   "execution_count": null,
   "id": "6c0febe3-2640-47c7-8fb7-049fe8bd53e2",
   "metadata": {},
   "outputs": [],
   "source": [
    "# making x_train, x_test, y_train, y_test\n",
    "\n",
    "from sklearn.model_selection import train_test_split\n",
    "\n",
    "x_train, x_test, y_train, y_test = train_test_split(x, y, test_size = 0.2)\n",
    "\n",
    "print(x_train.shape)\n",
    "print(y_train.shape)\n",
    "print(x_test.shape)\n",
    "print(y_test.shape)"
   ]
  },
  {
   "cell_type": "code",
   "execution_count": null,
   "id": "fbf14d93-7479-46b1-8f4a-d1254904145b",
   "metadata": {},
   "outputs": [],
   "source": [
    "#Feature Scaling\n",
    "from sklearn.preprocessing import StandardScaler\n",
    "sc = StandardScaler()\n",
    "x_train = sc.fit_transform(x_train)\n",
    "x_test = sc.transform(x_test)\n",
    "\n",
    "x_train = pd.DataFrame(x_train)\n",
    "x_train.head()"
   ]
  },
  {
   "cell_type": "markdown",
   "id": "d2ccd29b-928b-489b-9664-396e593041b4",
   "metadata": {},
   "source": [
    "**- Running Regression Algorithms**"
   ]
  },
  {
   "cell_type": "markdown",
   "id": "f507a8f1-5e63-40d5-8a46-f0a57c39c40d",
   "metadata": {},
   "source": [
    "- Linear Regression"
   ]
  },
  {
   "cell_type": "code",
   "execution_count": null,
   "id": "9bcc932f-949c-424f-b21e-dd5230c367db",
   "metadata": {},
   "outputs": [],
   "source": [
    "from sklearn.linear_model import LinearRegression\n",
    "from sklearn.metrics import mean_squared_error\n",
    "from sklearn.metrics import r2_score\n",
    "from sklearn.metrics import mean_absolute_error\n",
    "\n",
    "model_lr = LinearRegression()\n",
    "\n",
    "#Starting the modelling\n",
    "start_lr = time.time()\n",
    "model_lr.fit(x_train, y_train)\n",
    "\n",
    "# predicting the  test set results\n",
    "y_pred = model_lr.predict(x_test)\n",
    "\n",
    "#Ending the modelling\n",
    "end_lr = time.time()\n",
    "\n",
    "# finding the rmse,r2, mae and execution time of the model\n",
    "score_one = round(r2_score(y_test, y_pred), 3)\n",
    "mae_one = round(mean_absolute_error(y_test, y_pred), 3)\n",
    "rmse_one = round(mean_squared_error(y_test, y_pred), 3)\n",
    "ex_time_lr = round(end_lr - start_lr, 3)"
   ]
  },
  {
   "cell_type": "markdown",
   "id": "24a72a4f-28d1-4d6d-935a-7e7510cd61d9",
   "metadata": {},
   "source": [
    "- GradientBoostingRegressor (XgBoost Regressor)"
   ]
  },
  {
   "cell_type": "code",
   "execution_count": null,
   "id": "59a36e62-7dca-4c14-b040-a871cda01d02",
   "metadata": {},
   "outputs": [],
   "source": [
    "from sklearn.ensemble import GradientBoostingRegressor\n",
    "\n",
    "model_gb = GradientBoostingRegressor()\n",
    "\n",
    "#Starting the modelling\n",
    "start_gb = time.time()\n",
    "\n",
    "model_gb.fit(x_train, y_train)\n",
    "\n",
    "# predicting the test set results\n",
    "y_pred = model_gb.predict(x_test)\n",
    "\n",
    "#Ending the modelling\n",
    "end_gb = time.time()\n",
    "\n",
    "# finding the rmse,r2, mae and execution time of the model\n",
    "score_two = round(r2_score(y_test, y_pred), 3)\n",
    "mae_two = round(mean_absolute_error(y_test, y_pred), 3)\n",
    "rmse_two = round(mean_squared_error(y_test, y_pred), 3)\n",
    "ex_time_gb = round(end_gb - start_gb, 3)"
   ]
  },
  {
   "cell_type": "markdown",
   "id": "af8dc108-422d-4889-b922-9015831f99c7",
   "metadata": {},
   "source": [
    "- RandomForestRegressor"
   ]
  },
  {
   "cell_type": "code",
   "execution_count": null,
   "id": "cf3d97ac-4d9f-4e8b-b97c-cfc1354f8d58",
   "metadata": {},
   "outputs": [],
   "source": [
    "from sklearn.ensemble import RandomForestRegressor\n",
    "\n",
    "model_rf = RandomForestRegressor(n_estimators = 100 , n_jobs = -1)\n",
    "\n",
    "#Starting the modelling\n",
    "start_rf = time.time()\n",
    "\n",
    "model_rf.fit(x_train, y_train)\n",
    "\n",
    "# predicting the  test set results\n",
    "y_pred = model_rf.predict(x_test)\n",
    "\n",
    "#Ending the modelling\n",
    "end_rf = time.time()\n",
    "\n",
    "# finding the rmse,r2, mae and execution time of the model\n",
    "score_three = round(r2_score(y_test, y_pred), 3)\n",
    "mae_three = round(mean_absolute_error(y_test, y_pred), 3)\n",
    "rmse_three = round(mean_squared_error(y_test, y_pred), 3)\n",
    "ex_time_rf = round(end_rf - start_rf, 3)"
   ]
  },
  {
   "cell_type": "markdown",
   "id": "71aca8b9-7952-4e91-9676-1bb8c7988ca6",
   "metadata": {},
   "source": [
    "- DecisionTreeRegressor"
   ]
  },
  {
   "cell_type": "code",
   "execution_count": null,
   "id": "1e9894d9-0dea-4101-bf97-8364666e07c2",
   "metadata": {},
   "outputs": [],
   "source": [
    "from sklearn.tree import DecisionTreeRegressor\n",
    "\n",
    "model_dt = DecisionTreeRegressor()\n",
    "\n",
    "#Starting the modelling\n",
    "start_dt = time.time()\n",
    "\n",
    "model_dt.fit(x_train, y_train)\n",
    "\n",
    "# predicting the test set results\n",
    "y_pred = model_dt.predict(x_test)\n",
    "\n",
    "#Ending the modelling\n",
    "end_dt = time.time()\n",
    "\n",
    "# finding the rmse,r2, mae and execution time of the model\n",
    "score_fourth = round(r2_score(y_test, y_pred), 3)\n",
    "mae_fourth = round(mean_absolute_error(y_test, y_pred), 3)\n",
    "rmse_fourth = round(mean_squared_error(y_test, y_pred), 3)\n",
    "ex_time_dt = round(end_dt - start_dt, 3)"
   ]
  },
  {
   "cell_type": "markdown",
   "id": "2df04e2c-29b9-4bd1-a7c9-7a1731a8e8e7",
   "metadata": {},
   "source": [
    "- Support Vector Regression"
   ]
  },
  {
   "cell_type": "code",
   "execution_count": null,
   "id": "d8427029-ed12-43c8-9f54-d0f4ab61f0d5",
   "metadata": {},
   "outputs": [],
   "source": [
    "from sklearn.linear_model import Lasso\n",
    "from sklearn.metrics import mean_squared_error\n",
    "from sklearn.metrics import r2_score\n",
    "from sklearn.metrics import mean_absolute_error\n",
    "\n",
    "# instantiating the model\n",
    "model_lasso = Lasso()\n",
    "\n",
    "#Starting the modelling\n",
    "start_lasso = time.time()\n",
    "model_lasso.fit(x_train, y_train)\n",
    "\n",
    "# predicting the  test set results\n",
    "y_pred = model_lasso.predict(x_test)\n",
    "\n",
    "#Ending the modelling\n",
    "end_lasso = time.time()\n",
    "\n",
    "# finding the rmse,r2, mae and execution time of the model\n",
    "score_five = round(r2_score(y_test, y_pred), 3)\n",
    "mae_five = round(mean_absolute_error(y_test, y_pred), 3)\n",
    "rmse_five = round(mean_squared_error(y_test, y_pred), 3)\n",
    "ex_time_lasso = round(end_lasso - start_lasso, 3)"
   ]
  },
  {
   "cell_type": "markdown",
   "id": "3546c4f1-cbb1-4edc-9e89-dab9c5900bc8",
   "metadata": {},
   "source": [
    "- Cross Validation\n",
    "\n",
    "Here we are going to test our model in five random datasets"
   ]
  },
  {
   "cell_type": "code",
   "execution_count": null,
   "id": "ef6fe1c7-0f2f-4d62-b03e-a29ee90ddf4c",
   "metadata": {},
   "outputs": [],
   "source": [
    "### Validation croise\n",
    "from sklearn.model_selection import cross_val_score\n",
    "\n",
    "cvs_rf = cross_val_score(estimator=model_rf , X = x_train, y = y_train , cv =5)\n",
    "cvs_dt = cross_val_score(estimator=model_dt , X = x_train, y = y_train , cv =5)\n",
    "cvs_gb = cross_val_score(estimator=model_gb , X = x_train, y = y_train , cv =5)\n",
    "cvs_lr = cross_val_score(estimator=model_lr , X = x_train, y = y_train , cv =5)\n",
    "cvs_lasso = cross_val_score(estimator=model_lasso , X = x_train, y = y_train , cv =5)"
   ]
  },
  {
   "cell_type": "markdown",
   "id": "6ad3f773-5eda-4e0c-990e-79745fb8079d",
   "metadata": {},
   "source": [
    "**Storing the results in Dataframe**"
   ]
  },
  {
   "cell_type": "code",
   "execution_count": null,
   "id": "a153b132-f8a4-44d4-ae98-52d1821497b9",
   "metadata": {},
   "outputs": [],
   "source": [
    "models = pd.DataFrame({\n",
    "    'Model':[\"Linear Regression\", \"XgBoost Regressor\",\"Random Forest Regression\", \"Decision Tree Regressor\", \"Lasso Regression\"],\n",
    "    \"Score\":[score_one, score_two, score_three, score_fourth, score_five], \n",
    "    \"MAE\": [mae_one, mae_two, mae_three, mae_fourth, mae_five] ,\n",
    "    \"RMSE\": [rmse_one, rmse_two, rmse_three, rmse_fourth, rmse_five] ,\n",
    "    \"EX_TIME\": [ex_time_lr, ex_time_gb, ex_time_rf, ex_time_dt, ex_time_lasso] ,\n",
    "    \"CROSS\": [round(cvs_lr.mean()*100 , 2), round(cvs_gb.mean()*100 , 2), \n",
    "              round(cvs_rf.mean()*100 , 2), round(cvs_dt.mean()*100 , 2), \n",
    "              round(cvs_lasso.mean()*100 , 2)] ,\n",
    "})\n",
    "models.sort_values(by='Score',ascending=False)"
   ]
  },
  {
   "cell_type": "markdown",
   "id": "9d08b145-b309-4fe5-bb48-5b217fc5edc2",
   "metadata": {},
   "source": [
    "**Optimization Modelling**\n",
    "\n",
    "We will optimize the model RandomForest with GridSearch."
   ]
  },
  {
   "cell_type": "code",
   "execution_count": null,
   "id": "ef5eece5-b0fb-4a4d-8d13-139665b6e491",
   "metadata": {},
   "outputs": [],
   "source": [
    "# Importing GridSearch\n",
    "from sklearn.model_selection import GridSearchCV\n",
    "\n",
    "import warnings\n",
    "warnings.filterwarnings('ignore')\n",
    "\n",
    "#setting the hyperparameters\n",
    "param_grid = [\n",
    "    {'n_estimators': [30, 50, 80, 100], 'max_features': [2, 4, 6, 8, 10, 12]},\n",
    "]\n",
    "\n",
    "grid_search = GridSearchCV(model_rf, param_grid, cv=5, verbose=2, \n",
    "                           scoring='neg_mean_squared_error', \n",
    "                           return_train_score=True)\n",
    "\n",
    "grid_search.fit(x_train, y_train)"
   ]
  },
  {
   "cell_type": "code",
   "execution_count": null,
   "id": "a699df5f-17f5-4440-a4ee-4e1df788f1c2",
   "metadata": {},
   "outputs": [],
   "source": [
    "# displaying the best parameters\n",
    "grid_search.best_params_"
   ]
  },
  {
   "cell_type": "code",
   "execution_count": null,
   "id": "96c5ef4a-2e0e-4b3e-a269-60971ce533a6",
   "metadata": {},
   "outputs": [],
   "source": [
    "# displaying the results\n",
    "cvres = grid_search.cv_results_\n",
    "for mean_score, params in zip(cvres[\"mean_test_score\"], cvres[\"params\"]):\n",
    "    print(np.sqrt(-mean_score), params)"
   ]
  },
  {
   "cell_type": "code",
   "execution_count": null,
   "id": "0298ce24-c12f-4d39-ab6b-18a2f9f2e89b",
   "metadata": {},
   "outputs": [],
   "source": [
    "# Displaying the best estimator\n",
    "grid_search.best_estimator_"
   ]
  },
  {
   "cell_type": "markdown",
   "id": "da606380-76c9-4869-b9fd-b8686361f9da",
   "metadata": {},
   "source": [
    "`Pernel AVOUGNASSOU`"
   ]
  }
 ],
 "metadata": {
  "kernelspec": {
   "display_name": "Python 3 (ipykernel)",
   "language": "python",
   "name": "python3"
  },
  "language_info": {
   "codemirror_mode": {
    "name": "ipython",
    "version": 3
   },
   "file_extension": ".py",
   "mimetype": "text/x-python",
   "name": "python",
   "nbconvert_exporter": "python",
   "pygments_lexer": "ipython3",
   "version": "3.9.7"
  }
 },
 "nbformat": 4,
 "nbformat_minor": 5
}
